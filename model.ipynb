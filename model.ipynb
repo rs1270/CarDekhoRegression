{
 "cells": [
  {
   "cell_type": "code",
   "execution_count": 1,
   "metadata": {},
   "outputs": [],
   "source": [
    "import pandas as pd\n",
    "import numpy as np\n",
    "from sklearn.model_selection import train_test_split,cross_val_score, KFold,GridSearchCV\n",
    "from sklearn.linear_model import LinearRegression,Lasso,Ridge\n",
    "from sklearn.tree import DecisionTreeRegressor\n",
    "from sklearn.ensemble import RandomForestRegressor, GradientBoostingRegressor\n",
    "from sklearn.metrics import r2_score, mean_absolute_error\n",
    "import joblib"
   ]
  },
  {
   "cell_type": "code",
   "execution_count": 2,
   "metadata": {},
   "outputs": [],
   "source": [
    "car_df = pd.read_csv('car_df_no_outliers.csv')"
   ]
  },
  {
   "cell_type": "code",
   "execution_count": 3,
   "metadata": {},
   "outputs": [
    {
     "data": {
      "text/plain": [
       "Index(['bt', 'km', 'ownerNo', 'oem', 'model', 'modelYear', 'price',\n",
       "       'Insurance Validity', 'Fuel Type', 'Transmission', 'Mileage', 'Seats_1',\n",
       "       'City', 'Color', 'top_features_count'],\n",
       "      dtype='object')"
      ]
     },
     "execution_count": 3,
     "metadata": {},
     "output_type": "execute_result"
    }
   ],
   "source": [
    "car_df.columns"
   ]
  },
  {
   "cell_type": "code",
   "execution_count": 4,
   "metadata": {},
   "outputs": [],
   "source": [
    "\n",
    "x = car_df.drop('price', axis=1)\n",
    "y = car_df['price']\n",
    "\n",
    "# Performing the train-test split (80% train, 20% test)\n",
    "x_train, x_test, y_train, y_test = train_test_split(x, y, test_size=0.2, random_state=42)"
   ]
  },
  {
   "cell_type": "code",
   "execution_count": 5,
   "metadata": {},
   "outputs": [
    {
     "name": "stdout",
     "output_type": "stream",
     "text": [
      "R² for each fold: [0.69696544 0.69579574 0.63939782 0.69371737 0.67710634]\n",
      "Average R²: 0.6805965413629221\n",
      "Mean Squared Error (MSE): 32706707325.874138\n",
      "R² Score: 0.6969654388578975\n"
     ]
    }
   ],
   "source": [
    "from sklearn.model_selection import KFold, cross_val_score, train_test_split\n",
    "from sklearn.linear_model import LinearRegression\n",
    "from sklearn.metrics import mean_squared_error, r2_score\n",
    "\n",
    "# Split data into training and testing sets\n",
    "x_train, x_test, y_train, y_test = train_test_split(x, y, test_size=0.2, random_state=42)\n",
    "\n",
    "# Initialize the regression model\n",
    "model = LinearRegression()\n",
    "\n",
    "# Set up K-Fold cross-validation with 5 folds\n",
    "kf = KFold(n_splits=5, shuffle=True, random_state=42)\n",
    "\n",
    "# Perform cross-validation and calculate R² score\n",
    "scores = cross_val_score(model, x, y, cv=kf, scoring='r2')\n",
    "\n",
    "print(\"R² for each fold:\", scores)\n",
    "print(\"Average R²:\", scores.mean())\n",
    "\n",
    "# Train the model with training data and labels\n",
    "model.fit(x_train, y_train)\n",
    "\n",
    "# Predict on the test data\n",
    "y_pred = model.predict(x_test)\n",
    "\n",
    "# Calculate regression metrics\n",
    "mse = mean_squared_error(y_test, y_pred)\n",
    "r2 = r2_score(y_test, y_pred)\n",
    "\n",
    "print(\"Mean Squared Error (MSE):\", mse)\n",
    "print(\"R² Score:\", r2)\n"
   ]
  },
  {
   "cell_type": "code",
   "execution_count": 6,
   "metadata": {},
   "outputs": [
    {
     "name": "stdout",
     "output_type": "stream",
     "text": [
      "R² for each fold: [0.76694342 0.76747701 0.74603925 0.77268049 0.78867021]\n",
      "Average R²: 0.7683620797026015\n",
      "Mean Squared Error (MSE): 23578323312.236286\n",
      "R² Score: 0.7815418474809994\n"
     ]
    }
   ],
   "source": [
    "from sklearn.model_selection import KFold, cross_val_score, train_test_split\n",
    "from sklearn.linear_model import LinearRegression\n",
    "from sklearn.metrics import mean_squared_error, r2_score\n",
    "\n",
    "# Split data into training and testing sets\n",
    "x_train, x_test, y_train, y_test = train_test_split(x, y, test_size=0.2, random_state=42)\n",
    "\n",
    "# Initialize the regression model\n",
    "model =DecisionTreeRegressor()\n",
    "\n",
    "# Set up K-Fold cross-validation with 5 folds\n",
    "kf = KFold(n_splits=5, shuffle=True, random_state=42)\n",
    "\n",
    "# Perform cross-validation and calculate R² score\n",
    "scores = cross_val_score(model, x, y, cv=kf, scoring='r2')\n",
    "\n",
    "print(\"R² for each fold:\", scores)\n",
    "print(\"Average R²:\", scores.mean())\n",
    "\n",
    "# Train the model with training data and labels\n",
    "model.fit(x_train, y_train)\n",
    "\n",
    "# Predict on the test data\n",
    "y_pred = model.predict(x_test)\n",
    "\n",
    "# Calculate regression metrics\n",
    "mse = mean_squared_error(y_test, y_pred)\n",
    "r2 = r2_score(y_test, y_pred)\n",
    "\n",
    "print(\"Mean Squared Error (MSE):\", mse)\n",
    "print(\"R² Score:\", r2)"
   ]
  },
  {
   "cell_type": "code",
   "execution_count": 7,
   "metadata": {},
   "outputs": [
    {
     "name": "stdout",
     "output_type": "stream",
     "text": [
      "R² for each fold: [0.76838911 0.759146   0.744867   0.78241351 0.78746771]\n",
      "Average R²: 0.7684566655107655\n",
      "Mean Squared Error (MSE): 24997906645.569622\n",
      "R² Score: 0.7683891076428013\n"
     ]
    }
   ],
   "source": [
    "from sklearn.model_selection import KFold, cross_val_score, train_test_split\n",
    "from sklearn.tree import DecisionTreeRegressor  # Import DecisionTreeRegressor\n",
    "from sklearn.metrics import mean_squared_error, r2_score\n",
    "\n",
    "# Split data into training and testing sets\n",
    "x_train, x_test, y_train, y_test = train_test_split(x, y, test_size=0.2, random_state=42)\n",
    "\n",
    "# Initialize the regression model\n",
    "model = DecisionTreeRegressor(random_state=42)\n",
    "\n",
    "# Set up K-Fold cross-validation with 5 folds\n",
    "kf = KFold(n_splits=5, shuffle=True, random_state=42)\n",
    "\n",
    "# Perform cross-validation and calculate R² score\n",
    "scores = cross_val_score(model, x, y, cv=kf, scoring='r2')\n",
    "\n",
    "print(\"R² for each fold:\", scores)\n",
    "print(\"Average R²:\", scores.mean())\n",
    "\n",
    "# Train the model with training data and labels\n",
    "model.fit(x_train, y_train)\n",
    "\n",
    "# Predict on the test data\n",
    "y_pred = model.predict(x_test)\n",
    "\n",
    "# Calculate regression metrics\n",
    "mse = mean_squared_error(y_test, y_pred)\n",
    "r2 = r2_score(y_test, y_pred)\n",
    "\n",
    "print(\"Mean Squared Error (MSE):\", mse)\n",
    "print(\"R² Score:\", r2)\n"
   ]
  },
  {
   "cell_type": "code",
   "execution_count": 8,
   "metadata": {},
   "outputs": [
    {
     "name": "stdout",
     "output_type": "stream",
     "text": [
      "R² for each fold: [0.76838911 0.759146   0.744867   0.78241351 0.78746771]\n",
      "Average R²: 0.7684566655107655\n",
      "Mean Squared Error (MSE): 11788499396.93708\n",
      "R² Score: 0.8907770597118861\n"
     ]
    }
   ],
   "source": [
    "from sklearn.model_selection import KFold, cross_val_score, train_test_split\n",
    "from sklearn.ensemble import RandomForestRegressor  # Correct import\n",
    "from sklearn.metrics import mean_squared_error, r2_score\n",
    "\n",
    "# Split data into training and testing sets\n",
    "x_train, x_test, y_train, y_test = train_test_split(x, y, test_size=0.2, random_state=42)\n",
    "\n",
    "# Initialize the regression model\n",
    "rfmodel = RandomForestRegressor(random_state=42)  # Set random_state for consistency\n",
    "\n",
    "# Set up K-Fold cross-validation with 5 folds\n",
    "kf = KFold(n_splits=5, shuffle=True, random_state=42)\n",
    "\n",
    "# Perform cross-validation and calculate R² score\n",
    "scores = cross_val_score(model, x, y, cv=kf, scoring='r2')\n",
    "\n",
    "print(\"R² for each fold:\", scores)\n",
    "print(\"Average R²:\", scores.mean())\n",
    "\n",
    "# Train the model with training data and labels\n",
    "rfmodel.fit(x_train, y_train)\n",
    "\n",
    "# Predict on the test data\n",
    "y_pred = rfmodel.predict(x_test)\n",
    "\n",
    "# Calculate regression metrics\n",
    "mse = mean_squared_error(y_test, y_pred)\n",
    "r2 = r2_score(y_test, y_pred)\n",
    "\n",
    "print(\"Mean Squared Error (MSE):\", mse)\n",
    "print(\"R² Score:\", r2)\n"
   ]
  },
  {
   "cell_type": "code",
   "execution_count": 9,
   "metadata": {},
   "outputs": [
    {
     "name": "stdout",
     "output_type": "stream",
     "text": [
      "R² for each fold: [0.87226873 0.86833302 0.81479615 0.85732617 0.84643149]\n",
      "Average R²: 0.8518311124181176\n",
      "Mean Squared Error (MSE): 13782192991.487366\n",
      "R² Score: 0.8723050668739394\n"
     ]
    }
   ],
   "source": [
    "from sklearn.model_selection import KFold, cross_val_score, train_test_split\n",
    "from sklearn.ensemble import  GradientBoostingRegressor  # Correct import\n",
    "from sklearn.metrics import mean_squared_error, r2_score\n",
    "\n",
    "# Split data into training and testing sets\n",
    "x_train, x_test, y_train, y_test = train_test_split(x, y, test_size=0.2, random_state=42)\n",
    "\n",
    "# Initialize the regression model\n",
    "model =  GradientBoostingRegressor(random_state=42)  # Set random_state for consistency\n",
    "\n",
    "# Set up K-Fold cross-validation with 5 folds\n",
    "kf = KFold(n_splits=5, shuffle=True, random_state=42)\n",
    "\n",
    "# Perform cross-validation and calculate R² score\n",
    "scores = cross_val_score(model, x, y, cv=kf, scoring='r2')\n",
    "\n",
    "print(\"R² for each fold:\", scores)\n",
    "print(\"Average R²:\", scores.mean())\n",
    "\n",
    "# Train the model with training data and labels\n",
    "model.fit(x_train, y_train)\n",
    "\n",
    "# Predict on the test data\n",
    "y_pred = model.predict(x_test)\n",
    "\n",
    "# Calculate regression metrics\n",
    "mse = mean_squared_error(y_test, y_pred)\n",
    "r2 = r2_score(y_test, y_pred)\n",
    "\n",
    "print(\"Mean Squared Error (MSE):\", mse)\n",
    "print(\"R² Score:\", r2)\n"
   ]
  },
  {
   "cell_type": "code",
   "execution_count": 10,
   "metadata": {},
   "outputs": [
    {
     "data": {
      "text/plain": [
       "0.6969662953109366"
      ]
     },
     "execution_count": 10,
     "metadata": {},
     "output_type": "execute_result"
    }
   ],
   "source": [
    "from sklearn.linear_model import Ridge\n",
    "from sklearn.model_selection import train_test_split\n",
    "x=car_df.drop('price',axis=1)\n",
    "y=car_df['price']\n",
    "x_train,x_test,y_train,y_test=train_test_split(x,y,test_size=0.2,random_state=42)\n",
    "model=Ridge(alpha=0.1)\n",
    "model.fit(x_train,y_train)\n",
    "model.score(x_test,y_test)"
   ]
  },
  {
   "cell_type": "code",
   "execution_count": 11,
   "metadata": {},
   "outputs": [
    {
     "data": {
      "text/plain": [
       "0.6969654323162163"
      ]
     },
     "execution_count": 11,
     "metadata": {},
     "output_type": "execute_result"
    }
   ],
   "source": [
    "from sklearn.linear_model import Lasso\n",
    "from sklearn.model_selection import train_test_split\n",
    "x=car_df.drop('price',axis=1)\n",
    "y=car_df['price']\n",
    "x_train,x_test,y_train,y_test=train_test_split(x,y,test_size=0.2,random_state=42)\n",
    "model=Lasso(alpha=0.1)\n",
    "model.fit(x_train,y_train)\n",
    "model.score(x_test,y_test)"
   ]
  },
  {
   "cell_type": "code",
   "execution_count": 12,
   "metadata": {},
   "outputs": [
    {
     "name": "stdout",
     "output_type": "stream",
     "text": [
      "Fitting 5 folds for each of 216 candidates, totalling 1080 fits\n"
     ]
    },
    {
     "name": "stderr",
     "output_type": "stream",
     "text": [
      "c:\\Users\\rs\\AppData\\Local\\Programs\\Python\\Python312\\Lib\\site-packages\\numpy\\ma\\core.py:2846: RuntimeWarning: invalid value encountered in cast\n",
      "  _data = np.array(data, dtype=dtype, copy=copy,\n"
     ]
    },
    {
     "name": "stdout",
     "output_type": "stream",
     "text": [
      "Best Parameters: {'bootstrap': True, 'max_depth': 20, 'min_samples_leaf': 1, 'min_samples_split': 2, 'n_estimators': 300}\n",
      "R² score on test set: 0.89143977441965\n",
      "Mean Absolute Error on test set: 73758.4982392362\n"
     ]
    }
   ],
   "source": [
    "#Hyperparameter Tuning\n",
    "param_grid = {\n",
    "    'n_estimators': [100, 200, 300],\n",
    "    'max_depth': [10, 20, 30, None],\n",
    "    'min_samples_split': [2, 5, 10],\n",
    "    'min_samples_leaf': [1, 2, 4],\n",
    "    'bootstrap': [True, False]\n",
    "}\n",
    "\n",
    "rf = RandomForestRegressor(random_state=42)\n",
    "grid_search = GridSearchCV(estimator=rf, param_grid=param_grid, cv=5, n_jobs=-1, verbose=2)\n",
    "grid_search.fit(x_train, y_train)\n",
    "print(f'Best Parameters: {grid_search.best_params_}')\n",
    "best_rf = grid_search.best_estimator_\n",
    "y_pred = best_rf.predict(x_test)\n",
    "\n",
    "# Calculating R² and MAE\n",
    "r2 = r2_score(y_test, y_pred) \n",
    "mae = mean_absolute_error(y_test, y_pred)\n",
    "\n",
    "print(f'R² score on test set: {r2}')\n",
    "print(f'Mean Absolute Error on test set: {mae}')"
   ]
  },
  {
   "cell_type": "code",
   "execution_count": 13,
   "metadata": {},
   "outputs": [
    {
     "name": "stdout",
     "output_type": "stream",
     "text": [
      "Model saved as 'rfmodel.pkl'\n"
     ]
    }
   ],
   "source": [
    "import joblib\n",
    "\n",
    "joblib.dump(best_rf, 'rfmodel.pkl') \n",
    "print(\"Model saved as 'rfmodel.pkl'\")"
   ]
  },
  {
   "cell_type": "code",
   "execution_count": 14,
   "metadata": {},
   "outputs": [
    {
     "name": "stdout",
     "output_type": "stream",
     "text": [
      "Model loaded successfully\n"
     ]
    }
   ],
   "source": [
    "loaded_model = joblib.load('rfmodel.pkl')\n",
    "print(\"Model loaded successfully\")"
   ]
  }
 ],
 "metadata": {
  "kernelspec": {
   "display_name": "Python 3",
   "language": "python",
   "name": "python3"
  },
  "language_info": {
   "codemirror_mode": {
    "name": "ipython",
    "version": 3
   },
   "file_extension": ".py",
   "mimetype": "text/x-python",
   "name": "python",
   "nbconvert_exporter": "python",
   "pygments_lexer": "ipython3",
   "version": "3.12.6"
  }
 },
 "nbformat": 4,
 "nbformat_minor": 2
}
